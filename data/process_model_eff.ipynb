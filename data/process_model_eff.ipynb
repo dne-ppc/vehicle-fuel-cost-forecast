{
 "cells": [
  {
   "cell_type": "code",
   "execution_count": null,
   "metadata": {},
   "outputs": [],
   "source": [
    "import pandas as pd\n",
    "import pathlib \n",
    "\n",
    "kWh_per_gal = 33.41 # https://en.wikipedia.org/wiki/Gasoline_gallon_equivalent\n",
    "km_per_mile = 1.609344"
   ]
  },
  {
   "cell_type": "code",
   "execution_count": null,
   "metadata": {},
   "outputs": [],
   "source": [
    "# From https://www.fueleconomy.gov/feg/download.shtml\n",
    "\n",
    "\n",
    "def process_fuel_economy(file):\n",
    "\n",
    "    year = int(\"20\" + file.name[10:12])\n",
    "    df = pd.read_excel(file)\n",
    "\n",
    "    mask = df[\"Cert Region\"] == \"FA\"\n",
    "    mask &= df[\"Fuel\"] != \"Gasoline/Electricity\"\n",
    "    mask &= df[\"Fuel\"] != \"Ethanol/Gas\"\n",
    "    mask &= df[\"Fuel\"] != \"Electricity/Hydrogen\"\n",
    "    mask &= df[\"Fuel\"] != \"Hydrogen\"\n",
    "    mask &= df[\"Fuel\"] != \"Diesel\"\n",
    "    df = df[mask].reset_index()\n",
    "\n",
    "    mapper = {\"City MPG\": \"float64\", \"Hwy MPG\": \"float64\", \"Cmb MPG\": \"float64\"}\n",
    "    for col, dtype in mapper.items():\n",
    "        df[col] = df[col].astype(dtype)\n",
    "\n",
    "    mask = ~df.Displ.isna()\n",
    "    cyl_mask = ~df.Cyl.isna()\n",
    "    df.loc[mask, \"ID\"] = (\n",
    "        df.loc[mask, \"Model\"] + \" \" + df.loc[mask, \"Displ\"].astype(str) + \"L\"\n",
    "    )\n",
    "    df.loc[cyl_mask, \"ID\"] = (\n",
    "        df.loc[cyl_mask, \"ID\"]\n",
    "        + \" \"\n",
    "        + df.loc[cyl_mask, \"Cyl\"].astype(int).astype(str)\n",
    "        + \" Cylinder\"\n",
    "    )\n",
    "    df[\"ID\"] = df[\"ID\"].fillna(df.Model)\n",
    "    df[\"ID\"] += \" \" + df[\"Drive\"]\n",
    "    df[\"ID\"] += \" \" + df[\"Trans\"]\n",
    "\n",
    "    df[\"Year\"] = year\n",
    "    df[\"ID\"] = df[\"Year\"].astype(str) + \" \" + df[\"ID\"]\n",
    "\n",
    "    df[\"City kWh/km\"] = kWh_per_gal / (df[\"City MPG\"] * km_per_mile)\n",
    "    df[\"Hwy kWh/km\"] = kWh_per_gal / (df[\"Hwy MPG\"] * km_per_mile)\n",
    "    df[\"Cmb kWh/km\"] = kWh_per_gal / (df[\"Cmb MPG\"] * km_per_mile)\n",
    "\n",
    "    models = df.groupby([\"ID\", \"Year\", \"Fuel\", \"Veh Class\"]).agg(\n",
    "        {\"City kWh/km\": \"mean\", \"Hwy kWh/km\": \"mean\", \"Cmb kWh/km\": \"mean\"}\n",
    "    )\n",
    "    namer = {\"City kWh/km\": \"City\", \"Hwy kWh/km\": \"Highway\", \"Cmb kWh/km\": \"Combined\"}\n",
    "    models = models.rename(columns=namer).reset_index()\n",
    "\n",
    "    return models"
   ]
  },
  {
   "cell_type": "code",
   "execution_count": null,
   "metadata": {},
   "outputs": [],
   "source": [
    "models = []\n",
    "for file in pathlib.Path().glob('all_alpha*.xlsx'):\n",
    "    year_models = process_fuel_economy(file)\n",
    "    models.append(year_models)\n",
    "\n",
    "models = pd.concat(models,axis=0)\n",
    "models.to_csv('models.csv',index=False)"
   ]
  }
 ],
 "metadata": {
  "kernelspec": {
   "display_name": ".venv",
   "language": "python",
   "name": "python3"
  },
  "language_info": {
   "codemirror_mode": {
    "name": "ipython",
    "version": 3
   },
   "file_extension": ".py",
   "mimetype": "text/x-python",
   "name": "python",
   "nbconvert_exporter": "python",
   "pygments_lexer": "ipython3",
   "version": "3.12.4"
  }
 },
 "nbformat": 4,
 "nbformat_minor": 2
}
